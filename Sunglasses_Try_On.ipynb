{
 "cells": [
  {
   "cell_type": "code",
   "execution_count": 9,
   "metadata": {},
   "outputs": [],
   "source": [
    "\"\"\" \n",
    "Install libraries\n",
    "\n",
    "pip install opencv-python mediapipe numpy pillow\n",
    "pip install torch torchvision # For deep learning tasks, if needed\n",
    "\n",
    "\"\"\""
   ]
  },
  {
   "cell_type": "code",
   "execution_count": 9,
   "metadata": {},
   "outputs": [
    {
     "name": "stderr",
     "output_type": "stream",
     "text": [
      "I0000 00:00:1737242448.122347 124688563 gl_context.cc:369] GL version: 2.1 (2.1 Metal - 88.1), renderer: Apple M2\n",
      "W0000 00:00:1737242448.124696 124694888 inference_feedback_manager.cc:114] Feedback manager requires a model with a single signature inference. Disabling support for feedback tensors.\n",
      "W0000 00:00:1737242448.128686 124694888 inference_feedback_manager.cc:114] Feedback manager requires a model with a single signature inference. Disabling support for feedback tensors.\n"
     ]
    },
    {
     "name": "stdout",
     "output_type": "stream",
     "text": [
      "Failed to capture frame. Exiting...\n"
     ]
    }
   ],
   "source": [
    "import cv2\n",
    "import mediapipe as mp\n",
    "from PIL import Image\n",
    "import numpy as np\n",
    "\n",
    "# Function to overlay sunglasses\n",
    "def overlay_sunglasses(frame, sunglasses, landmarks):\n",
    "    left_eye = landmarks[33]\n",
    "    right_eye = landmarks[263]\n",
    "    width = int(abs(right_eye[0] - left_eye[0]) * 2)\n",
    "    height = int(width * sunglasses.size[1] / sunglasses.size[0])\n",
    "    x = int((left_eye[0] + right_eye[0]) / 2 - width / 2)\n",
    "    y = int((left_eye[1] + right_eye[1]) / 2 - height / 2)\n",
    "\n",
    "    # Clamp to frame bounds\n",
    "    x = max(0, x)\n",
    "    y = max(0, y)\n",
    "    width = min(width, frame.shape[1] - x)\n",
    "    height = min(height, frame.shape[0] - y)\n",
    "\n",
    "    if width > 0 and height > 0:\n",
    "        sunglasses_resized = sunglasses.resize((width, height), Image.Resampling.LANCZOS)\n",
    "        frame_pil = Image.fromarray(cv2.cvtColor(frame, cv2.COLOR_BGR2RGB)).convert(\"RGBA\")\n",
    "        frame_pil.paste(sunglasses_resized, (x, y), sunglasses_resized)\n",
    "        return cv2.cvtColor(np.array(frame_pil), cv2.COLOR_RGB2BGR)\n",
    "\n",
    "    print(\"Sunglasses placement out of bounds.\")\n",
    "    return frame\n",
    "\n",
    "# Load sunglasses image\n",
    "sunglasses = Image.open(\"sunglasses.png\").convert(\"RGBA\")\n",
    "\n",
    "# Initialize Mediapipe Face Mesh\n",
    "mp_face_mesh = mp.solutions.face_mesh\n",
    "face_mesh = mp_face_mesh.FaceMesh()\n",
    "\n",
    "# Start webcam feed\n",
    "cap = cv2.VideoCapture(0)\n",
    "\n",
    "while cap.isOpened():\n",
    "    ret, frame = cap.read()\n",
    "    if not ret:\n",
    "        print(\"Failed to capture frame. Exiting...\")\n",
    "        break\n",
    "\n",
    "    # Convert frame to RGB for Mediapipe\n",
    "    rgb_frame = cv2.cvtColor(frame, cv2.COLOR_BGR2RGB)\n",
    "    results = face_mesh.process(rgb_frame)\n",
    "\n",
    "    # Process face landmarks\n",
    "    if results.multi_face_landmarks:\n",
    "        h, w, c = frame.shape\n",
    "        landmarks = [\n",
    "            (int(lm.x * w), int(lm.y * h))\n",
    "            for lm in results.multi_face_landmarks[0].landmark\n",
    "        ]\n",
    "        frame = overlay_sunglasses(frame, sunglasses, landmarks)\n",
    "\n",
    "    # Display the frame\n",
    "    cv2.imshow(\"Sunglasses Try-On\", frame)\n",
    "\n",
    "    # Press 'q' to exit\n",
    "    if cv2.waitKey(1) & 0xFF == ord('q'):\n",
    "        break\n",
    "\n",
    "# Release resources\n",
    "cap.release()\n",
    "cv2.destroyAllWindows()\n"
   ]
  }
 ],
 "metadata": {
  "kernelspec": {
   "display_name": "Python 3",
   "language": "python",
   "name": "python3"
  },
  "language_info": {
   "codemirror_mode": {
    "name": "ipython",
    "version": 3
   },
   "file_extension": ".py",
   "mimetype": "text/x-python",
   "name": "python",
   "nbconvert_exporter": "python",
   "pygments_lexer": "ipython3",
   "version": "3.9.6"
  }
 },
 "nbformat": 4,
 "nbformat_minor": 2
}
